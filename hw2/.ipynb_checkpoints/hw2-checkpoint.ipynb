{
 "metadata": {
  "name": "",
  "signature": "sha256:88276cad0a61ec1ad2e0b1e6ea812df75e353ef575f121a448e325490d05e7d2"
 },
 "nbformat": 3,
 "nbformat_minor": 0,
 "worksheets": [
  {
   "cells": [
    {
     "cell_type": "markdown",
     "metadata": {},
     "source": [
      "## Homework 2\n",
      "# Hoeffding Inequality and Linear Regression\n",
      "Corey Chivers"
     ]
    },
    {
     "cell_type": "code",
     "collapsed": false,
     "input": [
      "from matplotlib.backends.backend_pdf import PdfPages\n",
      "%pylab inline"
     ],
     "language": "python",
     "metadata": {},
     "outputs": [
      {
       "output_type": "stream",
       "stream": "stdout",
       "text": [
        "Populating the interactive namespace from numpy and matplotlib\n"
       ]
      }
     ],
     "prompt_number": 3
    },
    {
     "cell_type": "code",
     "collapsed": false,
     "input": [
      "def flip():\n",
      "    '''flip a coin'''\n",
      "    return random.choice(['heads','tails'])\n",
      "\n",
      "def n_flips(n):\n",
      "    '''flip a coin n times'''\n",
      "    return np.array([flip() for f in range(n)])\n",
      "\n",
      "def series_of_n_flips(r=1000,n=10):\n",
      "    '''Flip r coins n times each'''\n",
      "    return np.array([n_flips(n) for f in range(r)])\n",
      "\n",
      "def prop_heads(flips):\n",
      "    '''return the proportion of heads in a series of flips'''\n",
      "    return (flips=='heads').mean()"
     ],
     "language": "python",
     "metadata": {},
     "outputs": [],
     "prompt_number": 29
    },
    {
     "cell_type": "code",
     "collapsed": false,
     "input": [
      "# Flip that mofo 20 times just for fun:\n",
      "# Heads I win, Tails you lose ;-)\n",
      "flips = n_flips(20)\n",
      "print flips\n",
      "print prop_heads(flips),\"%heads\""
     ],
     "language": "python",
     "metadata": {},
     "outputs": [
      {
       "output_type": "stream",
       "stream": "stdout",
       "text": [
        "['heads' 'tails' 'tails' 'tails' 'tails' 'heads' 'tails' 'tails' 'heads'\n",
        " 'heads' 'heads' 'tails' 'tails' 'heads' 'tails' 'tails' 'tails' 'tails'\n",
        " 'tails' 'tails']\n",
        "0.3 %heads\n"
       ]
      }
     ],
     "prompt_number": 47
    },
    {
     "cell_type": "markdown",
     "metadata": {},
     "source": [
      "Weeeeeeee!"
     ]
    },
    {
     "cell_type": "code",
     "collapsed": false,
     "input": [
      "n = 10\n",
      "r = 1000\n",
      "snf = series_of_n_flips(n=n,r=r)\n",
      "\n",
      "c_1 = snf[1,:] # The first coin.\n",
      "\n",
      "c_rand = snf[random.choice(range(r)),:] # a random coin\n",
      "\n",
      "# The coin with the fewest heads\n",
      "# first get the prop heads for each of the r coins \n",
      "# (eg each set of 10 flips [since coins are indistinguishable])\n",
      "prop_h = np.apply_along_axis(prop_heads,1,snf)\n",
      "min_idx = prop_h.argmin()\n",
      "print min_idx, prop_h[min_idx]"
     ],
     "language": "python",
     "metadata": {},
     "outputs": [
      {
       "output_type": "stream",
       "stream": "stdout",
       "text": [
        "55 0.1\n"
       ]
      }
     ],
     "prompt_number": 63
    },
    {
     "cell_type": "code",
     "collapsed": false,
     "input": [
      "# Let's plot the beta distribution!\n",
      "hist(prop_h,bins=9)"
     ],
     "language": "python",
     "metadata": {},
     "outputs": [
      {
       "metadata": {},
       "output_type": "pyout",
       "prompt_number": 69,
       "text": [
        "(array([   9.,   54.,  123.,  217.,  245.,  187.,  114.,   44.,    7.]),\n",
        " array([ 0.1       ,  0.18888889,  0.27777778,  0.36666667,  0.45555556,\n",
        "         0.54444444,  0.63333333,  0.72222222,  0.81111111,  0.9       ]),\n",
        " <a list of 9 Patch objects>)"
       ]
      },
      {
       "metadata": {},
       "output_type": "display_data",
       "png": "[encoded data removed]",
       "text": [
        "<matplotlib.figure.Figure at 0x106d36650>"
       ]
      }
     ],
     "prompt_number": 69
    },
    {
     "cell_type": "code",
     "collapsed": false,
     "input": [
      "c1"
     ],
     "language": "python",
     "metadata": {},
     "outputs": [
      {
       "metadata": {},
       "output_type": "pyout",
       "prompt_number": 15,
       "text": [
        "array(['heads', 'heads', 'tails', 'heads', 'heads', 'heads', 'heads',\n",
        "       'tails', 'heads', 'tails'], \n",
        "      dtype='|S5')"
       ]
      }
     ],
     "prompt_number": 15
    },
    {
     "cell_type": "code",
     "collapsed": false,
     "input": [],
     "language": "python",
     "metadata": {},
     "outputs": []
    }
   ],
   "metadata": {}
  }
 ]
}