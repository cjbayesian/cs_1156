{
 "metadata": {
  "name": "",
  "signature": "sha256:8e1a71d24cbb8ec42109821b0342233eb894406c485eb1574cb2e58f1877c853"
 },
 "nbformat": 3,
 "nbformat_minor": 0,
 "worksheets": [
  {
   "cells": [
    {
     "cell_type": "markdown",
     "metadata": {},
     "source": [
      "## Homework 3\n",
      "# Theory of Generalization\n",
      "Corey Chivers"
     ]
    },
    {
     "cell_type": "code",
     "collapsed": false,
     "input": [
      "from matplotlib.backends.backend_pdf import PdfPages\n",
      "%pylab inline"
     ],
     "language": "python",
     "metadata": {},
     "outputs": [
      {
       "output_type": "stream",
       "stream": "stdout",
       "text": [
        "Populating the interactive namespace from numpy and matplotlib\n"
       ]
      }
     ],
     "prompt_number": 2
    },
    {
     "cell_type": "markdown",
     "metadata": {},
     "source": [
      "### Question 1\n",
      "modied Hoeding Inequality. Here we could solve for N directly, but where's the fun in that. Let's plot it to see when it crosses our threshold."
     ]
    },
    {
     "cell_type": "code",
     "collapsed": false,
     "input": [
      "def mHI(M=1,epsilon=0.05,N=1):\n",
      "    return 2*M*exp(-2*N*epsilon**2)"
     ],
     "language": "python",
     "metadata": {},
     "outputs": [],
     "prompt_number": 73
    },
    {
     "cell_type": "code",
     "collapsed": false,
     "input": [
      "maxn = 1000\n",
      "Ns = np.array(range(maxn))\n",
      "mh = mHI(N=Ns)\n",
      "print min(mh)\n",
      "plot(mh)\n",
      "hlines(y=0.03, xmin=0, xmax=maxn)"
     ],
     "language": "python",
     "metadata": {},
     "outputs": [
      {
       "output_type": "stream",
       "stream": "stdout",
       "text": [
        "0.0135434421979\n"
       ]
      },
      {
       "metadata": {},
       "output_type": "pyout",
       "prompt_number": 74,
       "text": [
        "<matplotlib.collections.LineCollection at 0x10a3056d0>"
       ]
      },
      {
       "metadata": {},
       "output_type": "display_data",
       "png": "[encoded data removed]",
       "text": [
        "<matplotlib.figure.Figure at 0x10a305090>"
       ]
      }
     ],
     "prompt_number": 74
    },
    {
     "cell_type": "markdown",
     "metadata": {},
     "source": [
      "### Question 2\n",
      "Now for $M = 10$."
     ]
    },
    {
     "cell_type": "code",
     "collapsed": false,
     "input": [
      "maxn = 1500\n",
      "Ns = np.array(range(maxn))\n",
      "mh = mHI(M=10, N=Ns)\n",
      "print min(mh)\n",
      "plot(mh)\n",
      "hlines(y=0.03, xmin=0, xmax=maxn)"
     ],
     "language": "python",
     "metadata": {},
     "outputs": [
      {
       "output_type": "stream",
       "stream": "stdout",
       "text": [
        "0.0111171343418\n"
       ]
      },
      {
       "metadata": {},
       "output_type": "pyout",
       "prompt_number": 75,
       "text": [
        "<matplotlib.collections.LineCollection at 0x10a661650>"
       ]
      },
      {
       "metadata": {},
       "output_type": "display_data",
       "png": "[encoded data removed]",
       "text": [
        "<matplotlib.figure.Figure at 0x10a661450>"
       ]
      }
     ],
     "prompt_number": 75
    },
    {
     "cell_type": "markdown",
     "metadata": {},
     "source": [
      "### Question 3\n",
      "Now for $M = 100$."
     ]
    },
    {
     "cell_type": "code",
     "collapsed": false,
     "input": [
      "maxn = 2000\n",
      "Ns = np.array(range(maxn))\n",
      "mh = mHI(M=100, N=Ns)\n",
      "print min(mh)\n",
      "plot(mh)\n",
      "hlines(y=0.03, xmin=0, xmax=maxn)"
     ],
     "language": "python",
     "metadata": {},
     "outputs": [
      {
       "output_type": "stream",
       "stream": "stdout",
       "text": [
        "0.00912549957149\n"
       ]
      },
      {
       "metadata": {},
       "output_type": "pyout",
       "prompt_number": 76,
       "text": [
        "<matplotlib.collections.LineCollection at 0x10a669710>"
       ]
      },
      {
       "metadata": {},
       "output_type": "display_data",
       "png": "[encoded data removed]",
       "text": [
        "<matplotlib.figure.Figure at 0x10a6696d0>"
       ]
      }
     ],
     "prompt_number": 76
    },
    {
     "cell_type": "code",
     "collapsed": false,
     "input": [
      "from scipy import misc\n",
      "maxn = 10\n",
      "Ns = np.array(range(maxn))\n",
      "\n",
      "plot(2**Ns,color='red')\n",
      "plot(Ns**(Ns**(1/2.0)),color='blue')\n",
      "\n",
      "print misc.comb(10, 2, exact=False)\n",
      "plot(1 + Ns + misc.comb(Ns, 2, exact=False),color='green')"
     ],
     "language": "python",
     "metadata": {},
     "outputs": [
      {
       "output_type": "stream",
       "stream": "stdout",
       "text": [
        "45.0\n"
       ]
      },
      {
       "metadata": {},
       "output_type": "pyout",
       "prompt_number": 77,
       "text": [
        "[<matplotlib.lines.Line2D at 0x10af38d50>]"
       ]
      },
      {
       "metadata": {},
       "output_type": "display_data",
       "png": "[encoded data removed]",
       "text": [
        "<matplotlib.figure.Figure at 0x10ad78f90>"
       ]
      }
     ],
     "prompt_number": 77
    }
   ],
   "metadata": {}
  }
 ]
}