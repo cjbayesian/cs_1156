{
 "metadata": {
  "name": "",
  "signature": "sha256:2ce950ec43c6a03f56ff922b96967edf3deaa2124401d3de86ec3ac0126429de"
 },
 "nbformat": 3,
 "nbformat_minor": 0,
 "worksheets": [
  {
   "cells": [
    {
     "cell_type": "markdown",
     "metadata": {},
     "source": [
      "## Homework 4\n",
      "# Generalization Error, Bias/Variance, and VC Dimension\n",
      "Corey Chivers"
     ]
    },
    {
     "cell_type": "code",
     "collapsed": false,
     "input": [
      "from matplotlib.backends.backend_pdf import PdfPages\n",
      "%pylab inline"
     ],
     "language": "python",
     "metadata": {},
     "outputs": [
      {
       "output_type": "stream",
       "stream": "stdout",
       "text": [
        "Populating the interactive namespace from numpy and matplotlib\n"
       ]
      }
     ],
     "prompt_number": 4
    },
    {
     "cell_type": "markdown",
     "metadata": {},
     "source": [
      "### Question 1\n",
      "Vapnik-Chervonenkis Inequality:\n",
      "$$P[|E(g)_{in} - E(g)_{out}| \\gt \\epsilon] \\le 4 m_H (2N) e^{-1/8\\epsilon^2N}$$"
     ]
    },
    {
     "cell_type": "code",
     "collapsed": false,
     "input": [
      "def VCi(N=1,epsilon=0.05):\n",
      "    return 4*(2*N)**10*exp(-(1/8)*N*epsilon**2)"
     ],
     "language": "python",
     "metadata": {},
     "outputs": [],
     "prompt_number": 11
    },
    {
     "cell_type": "code",
     "collapsed": false,
     "input": [
      "maxn = 1000\n",
      "Ns = np.array(range(maxn))\n",
      "mh = VCi(N=Ns)\n",
      "print min(mh)\n",
      "plot(mh)\n",
      "hlines(y=0.03, xmin=0, xmax=maxn)"
     ],
     "language": "python",
     "metadata": {},
     "outputs": [
      {
       "output_type": "stream",
       "stream": "stdout",
       "text": [
        "-7.14773411371e+18\n"
       ]
      },
      {
       "metadata": {},
       "output_type": "pyout",
       "prompt_number": 12,
       "text": [
        "<matplotlib.collections.LineCollection at 0x1068111d0>"
       ]
      },
      {
       "metadata": {},
       "output_type": "display_data",
       "png": "[encoded data removed]",
       "text": [
        "<matplotlib.figure.Figure at 0x106807190>"
       ]
      }
     ],
     "prompt_number": 12
    },
    {
     "cell_type": "markdown",
     "metadata": {},
     "source": [
      "### Question 2\n",
      "Now for $M = 10$."
     ]
    },
    {
     "cell_type": "code",
     "collapsed": false,
     "input": [
      "maxn = 1500\n",
      "Ns = np.array(range(maxn))\n",
      "mh = mHI(M=10, N=Ns)\n",
      "print min(mh)\n",
      "plot(mh)\n",
      "hlines(y=0.03, xmin=0, xmax=maxn)"
     ],
     "language": "python",
     "metadata": {},
     "outputs": [
      {
       "output_type": "stream",
       "stream": "stdout",
       "text": [
        "0.0111171343418\n"
       ]
      },
      {
       "metadata": {},
       "output_type": "pyout",
       "prompt_number": 75,
       "text": [
        "<matplotlib.collections.LineCollection at 0x10a661650>"
       ]
      },
      {
       "metadata": {},
       "output_type": "display_data",
       "png": "[encoded data removed]",
       "text": [
        "<matplotlib.figure.Figure at 0x10a661450>"
       ]
      }
     ],
     "prompt_number": 75
    },
    {
     "cell_type": "markdown",
     "metadata": {},
     "source": [
      "### Question 3\n",
      "Now for $M = 100$."
     ]
    },
    {
     "cell_type": "code",
     "collapsed": false,
     "input": [
      "maxn = 2000\n",
      "Ns = np.array(range(maxn))\n",
      "mh = mHI(M=100, N=Ns)\n",
      "print min(mh)\n",
      "plot(mh)\n",
      "hlines(y=0.03, xmin=0, xmax=maxn)"
     ],
     "language": "python",
     "metadata": {},
     "outputs": [
      {
       "output_type": "stream",
       "stream": "stdout",
       "text": [
        "0.00912549957149\n"
       ]
      },
      {
       "metadata": {},
       "output_type": "pyout",
       "prompt_number": 76,
       "text": [
        "<matplotlib.collections.LineCollection at 0x10a669710>"
       ]
      },
      {
       "metadata": {},
       "output_type": "display_data",
       "png": "[encoded data removed]",
       "text": [
        "<matplotlib.figure.Figure at 0x10a6696d0>"
       ]
      }
     ],
     "prompt_number": 76
    },
    {
     "cell_type": "code",
     "collapsed": false,
     "input": [
      "from scipy import misc\n",
      "maxn = 10\n",
      "Ns = np.array(range(maxn))\n",
      "\n",
      "plot(2**Ns,color='red')\n",
      "plot(Ns**(Ns**(1/2.0)),color='blue')\n",
      "\n",
      "print misc.comb(10, 2, exact=False)\n",
      "plot(1 + Ns + misc.comb(Ns, 2, exact=False),color='green')"
     ],
     "language": "python",
     "metadata": {},
     "outputs": [
      {
       "output_type": "stream",
       "stream": "stdout",
       "text": [
        "45.0\n"
       ]
      },
      {
       "metadata": {},
       "output_type": "pyout",
       "prompt_number": 5,
       "text": [
        "[<matplotlib.lines.Line2D at 0x106e95b50>]"
       ]
      },
      {
       "metadata": {},
       "output_type": "display_data",
       "png": "[encoded data removed]",
       "text": [
        "<matplotlib.figure.Figure at 0x106cbe8d0>"
       ]
      }
     ],
     "prompt_number": 5
    },
    {
     "cell_type": "code",
     "collapsed": false,
     "input": [],
     "language": "python",
     "metadata": {},
     "outputs": []
    }
   ],
   "metadata": {}
  }
 ]
}