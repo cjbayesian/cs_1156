{
 "metadata": {
  "name": "",
  "signature": "sha256:98ab5eac4b21cbcc5fcd5fa4ffaf403ff91301e3a46f5c44a40fe8be30a26bdc"
 },
 "nbformat": 3,
 "nbformat_minor": 0,
 "worksheets": [
  {
   "cells": [
    {
     "cell_type": "markdown",
     "metadata": {},
     "source": [
      "## Homework 1\n",
      "# Implementing the Linear Perceptron Learning Algorithm\n",
      "Corey Chivers"
     ]
    },
    {
     "cell_type": "code",
     "collapsed": false,
     "input": [
      "from matplotlib.backends.backend_pdf import PdfPages\n",
      "%pylab inline"
     ],
     "language": "python",
     "metadata": {},
     "outputs": [
      {
       "output_type": "stream",
       "stream": "stdout",
       "text": [
        "Populating the interactive namespace from numpy and matplotlib\n"
       ]
      }
     ],
     "prompt_number": 1
    },
    {
     "cell_type": "code",
     "collapsed": false,
     "input": [
      "def lineFromW(x,w):\n",
      "    '''Return y for a given x and a set of weights w. For drawing the perceptron'''\n",
      "    # w0 + w1 x + w2 y = 0\n",
      "    # y = (-w0 - w1 x) / w2\n",
      "    y = (-w[0] - w[1] * x) / w[2]\n",
      "    return y\n",
      "\n",
      "def lineFromPoints(p1,p2):\n",
      "    '''Return slope and intercept of a line defined by two points '''\n",
      "    # y = m x + b\n",
      "    m = (p1[1] - p2[1]) / (p1[0] - p2[0])\n",
      "    b = p1[1] - m * p1[0]\n",
      "    return (m,b)\n",
      "\n",
      "def lineFromMB(x,m,b):\n",
      "    '''Return y for a given x, m=slope, and b=y intercept'''\n",
      "    y = m * x + b\n",
      "    return y\n",
      "    \n",
      "def classifyByLine(x,m,b):\n",
      "    '''Return true is below the line, false if above'''\n",
      "    y = x[:,1] < x[:,0] * m + b\n",
      "    return y\n",
      "\n",
      "def classifyByW(x,w):\n",
      "    '''Linear perceptron, implementing h(x)=sign(W^T . x)'''\n",
      "    s = w[0] + w[1] * x[:,0] + w[2] * x[:,1] \n",
      "    y = (s < 0)\n",
      "    return y\n",
      "\n",
      "def simData(N=20):\n",
      "    ''' Simulate N points separated by a random line '''\n",
      "    x = np.random.rand(N,2)*2-1\n",
      "    \n",
      "    # pick 2 points to draw a line through\n",
      "    sp = np.random.rand(2,2)*2-1\n",
      "    m,b = lineFromPoints(sp[0,:],sp[1,:])\n",
      "    \n",
      "    # define y according to that line\n",
      "    y = classifyByLine(x=x,m=m,b=b)\n",
      "    \n",
      "    return {'x':x,'y':y}\n"
     ],
     "language": "python",
     "metadata": {},
     "outputs": [],
     "prompt_number": 2
    },
    {
     "cell_type": "code",
     "collapsed": false,
     "input": [
      "# Initial weight vector (just off zero to stop division by zero):\n",
      "w = np.array([0,0,0.01])\n",
      "\n",
      "# Sim some random data:\n",
      "data = simData()\n",
      "\n",
      "# Color the positives red, and negatives blue\n",
      "y_color = np.array(['red' if i==1 else 'blue' for i in data['y']])\n",
      "\n",
      "# Plot the simulated data:\n",
      "plt.scatter(data['x'][:,0],data['x'][:,1],c=y_color,s=100)\n",
      "plt.axis([-1, 1, -1, 1])\n",
      "\n",
      "# Add the perceptron at the initial weights\n",
      "xx = np.array([-1,1])\n",
      "plt.plot(xx,lineFromW(xx,w))\n",
      "\n",
      "# Classify the points according to the initial weights\n",
      "y_perceptron = classifyByW(data['x'],w)\n",
      "correct = np.logical_not(np.logical_xor(y_perceptron,data['y']))\n",
      "\n",
      "# Add a star if correct, x if incorrect:\n",
      "y_perceptron = ['*' if i else 'x' for i in correct]\n",
      "for i in range(data['x'].shape[0]):\n",
      "    plt.scatter(data['x'][i,0],data['x'][i,1],marker=y_perceptron[i],color='white',s=100)\n",
      "\n",
      "plt.show()"
     ],
     "language": "python",
     "metadata": {},
     "outputs": [
      {
       "metadata": {},
       "output_type": "display_data",
       "png": "[encoded data removed]",
       "text": [
        "<matplotlib.figure.Figure at 0x106396e10>"
       ]
      }
     ],
     "prompt_number": 3
    },
    {
     "cell_type": "code",
     "collapsed": false,
     "input": [
      "# One step in the PLA:\n",
      "# (This is where the magic happens)\n",
      "def updateW(w,x,y,verbose=True):\n",
      "    # predict y using the current weights (ie classify)\n",
      "    y_perc = classifyByW(x,w)\n",
      "    \n",
      "    # Get the missclassified points\n",
      "    incorrect = np.logical_xor(y_perc,data['y'])\n",
      "\n",
      "    if verbose:\n",
      "        print 'N wrong: ', np.sum(incorrect)\n",
      "    \n",
      "    # If there are no missclassified points, then we're done. Yay!\n",
      "    if np.sum(incorrect) == 0:\n",
      "        return w\n",
      "    \n",
      "    # Get the indicies of misclasified points\n",
      "    inc_idx = [i for i,v in enumerate(list(incorrect))  if v]\n",
      "\n",
      "    # Choose one misclasified point at random\n",
      "    inc_idx = random.choice(inc_idx)\n",
      "    \n",
      "    # encode y_perc as {-1,1} rather than {true,false}\n",
      "    y_perc = np.array([1 if yy else -1 for yy in y_perc])\n",
      "    \n",
      "    # Add on the x0 = 1 artificial coordinate\n",
      "    x = np.column_stack((np.ones(x.shape[0]).T,x))\n",
      "\n",
      "    # PLA definition from the slides!\n",
      "    w = w + (y_perc[inc_idx] * x[inc_idx,:])\n",
      "    \n",
      "    return w\n",
      "    "
     ],
     "language": "python",
     "metadata": {},
     "outputs": [],
     "prompt_number": 4
    },
    {
     "cell_type": "code",
     "collapsed": false,
     "input": [
      "# Function to plot each page of a multipage pdf to visualize the PLA\n",
      "def plot_perc(data,w,pdf_w):\n",
      "    xx = np.array([-1,1])\n",
      "    y_color = np.array(['red' if i==1 else 'blue' for i in data['y']])\n",
      "\n",
      "    plt.scatter(data['x'][:,0],data['x'][:,1],c=y_color,s=100)\n",
      "    plt.axis([-1, 1, -1, 1])\n",
      "    #plt.plot(xx,lineFromMB(xx,m,b))\n",
      "\n",
      "    plt.plot(xx,lineFromW(xx,w))\n",
      "    y_perceptron = classifyByW(data['x'],w)\n",
      "    correct = np.logical_not(np.logical_xor(y_perceptron,data['y']))\n",
      "\n",
      "    y_perceptron = ['*' if i else 'x' for i in correct]\n",
      "\n",
      "    for i in range(data['x'].shape[0]):\n",
      "        plt.scatter(data['x'][i,0],data['x'][i,1],marker=y_perceptron[i],color='white',s=100)\n",
      "    pdf_w.savefig()  # saves the current figure into a pdf page\n",
      "    plt.close()    \n"
     ],
     "language": "python",
     "metadata": {},
     "outputs": [],
     "prompt_number": 5
    },
    {
     "cell_type": "code",
     "collapsed": false,
     "input": [
      "# Run this cell a few times, each time looking at the resulting pdf\n",
      "# to see the perceptron updating process\n",
      "data = simData(N=20)\n",
      "old_w = w\n",
      "new_w = np.ones(3)\n",
      "\n",
      "with PdfPages('PLA_vis.pdf') as pdf:\n",
      "    plot_perc(data,w,pdf)\n",
      "    while not numpy.array_equal(old_w, new_w):\n",
      "        old_w = new_w\n",
      "        new_w = updateW(old_w,data['x'],data['y'])\n",
      "        plot_perc(data,new_w,pdf)"
     ],
     "language": "python",
     "metadata": {},
     "outputs": [
      {
       "output_type": "stream",
       "stream": "stdout",
       "text": [
        "N wrong:  13\n",
        "N wrong: "
       ]
      },
      {
       "output_type": "stream",
       "stream": "stdout",
       "text": [
        " 12\n",
        "N wrong: "
       ]
      },
      {
       "output_type": "stream",
       "stream": "stdout",
       "text": [
        " 10\n",
        "N wrong: "
       ]
      },
      {
       "output_type": "stream",
       "stream": "stdout",
       "text": [
        " 4\n",
        "N wrong: "
       ]
      },
      {
       "output_type": "stream",
       "stream": "stdout",
       "text": [
        " 10\n",
        "N wrong: "
       ]
      },
      {
       "output_type": "stream",
       "stream": "stdout",
       "text": [
        " 3\n",
        "N wrong: "
       ]
      },
      {
       "output_type": "stream",
       "stream": "stdout",
       "text": [
        " 9\n",
        "N wrong: "
       ]
      },
      {
       "output_type": "stream",
       "stream": "stdout",
       "text": [
        " 4\n",
        "N wrong: "
       ]
      },
      {
       "output_type": "stream",
       "stream": "stdout",
       "text": [
        " 4\n",
        "N wrong: "
       ]
      },
      {
       "output_type": "stream",
       "stream": "stdout",
       "text": [
        " 1\n",
        "N wrong: "
       ]
      },
      {
       "output_type": "stream",
       "stream": "stdout",
       "text": [
        " 2\n",
        "N wrong: "
       ]
      },
      {
       "output_type": "stream",
       "stream": "stdout",
       "text": [
        " 1\n",
        "N wrong: "
       ]
      },
      {
       "output_type": "stream",
       "stream": "stdout",
       "text": [
        " 1\n",
        "N wrong: "
       ]
      },
      {
       "output_type": "stream",
       "stream": "stdout",
       "text": [
        " 1\n",
        "N wrong: "
       ]
      },
      {
       "output_type": "stream",
       "stream": "stdout",
       "text": [
        " 1\n",
        "N wrong: "
       ]
      },
      {
       "output_type": "stream",
       "stream": "stdout",
       "text": [
        " 1\n",
        "N wrong: "
       ]
      },
      {
       "output_type": "stream",
       "stream": "stdout",
       "text": [
        " 0\n"
       ]
      }
     ],
     "prompt_number": 6
    },
    {
     "cell_type": "code",
     "collapsed": false,
     "input": [
      "# Question 7,9:\n",
      "# On average, how many iterations of the PLA\n",
      "# are required to converge?\n",
      "counts = []\n",
      "\n",
      "for rep in range(1000):\n",
      "    data = simData(N=10)\n",
      "    old_w = w\n",
      "    new_w = np.ones(3)\n",
      "    i = 0\n",
      "    # Keep updating until the weights don't change (ie convergence)\n",
      "    while not numpy.array_equal(old_w, new_w):\n",
      "        i = i + 1\n",
      "        old_w = new_w\n",
      "        new_w = updateW(old_w,data['x'],data['y'],verbose=False)\n",
      "    counts.append(i)\n",
      "\n",
      "counts = np.array(counts)\n",
      "counts.mean()"
     ],
     "language": "python",
     "metadata": {},
     "outputs": [
      {
       "metadata": {},
       "output_type": "pyout",
       "prompt_number": 7,
       "text": [
        "8.5570000000000004"
       ]
      }
     ],
     "prompt_number": 7
    },
    {
     "cell_type": "code",
     "collapsed": false,
     "input": [
      "# Question 8,10:\n",
      "# What is the probability that the fitted perceptron will misclassify an out of sample point?\n",
      "prop_incorrect = []\n",
      "n_in_sample = 100\n",
      "for rep in range(1000):\n",
      "    # Simulate a huge dataset\n",
      "    data_big = simData(N=10000)\n",
      "    # Pull out the first n_in_sample points for fitting (in-sample)\n",
      "    data = {}\n",
      "    data['x'] = data_big['x'][:n_in_sample]\n",
      "    data['y'] = data_big['y'][:n_in_sample]\n",
      "\n",
      "    old_w = w\n",
      "    new_w = np.ones(3)\n",
      "    \n",
      "    # Run the PLA until it converges\n",
      "    while not numpy.array_equal(old_w, new_w):\n",
      "        old_w = new_w\n",
      "        new_w = updateW(old_w,data['x'],data['y'],verbose=False)\n",
      "    \n",
      "    # Check how many points are missclassified out-of-sample:\n",
      "    data_oos = {}\n",
      "    data_oos['x'] = data_big['x'][n_in_sample+1:]\n",
      "    data_oos['y'] = data_big['y'][n_in_sample+1:]\n",
      "\n",
      "    y_perceptron = classifyByW(data_oos['x'],new_w)\n",
      "    incorrect = np.logical_xor(y_perceptron,data_oos['y'])\n",
      "    \n",
      "    # Get the proportion of points which were missclassified\n",
      "    prop_incorrect.append(np.sum(incorrect) / float(incorrect.shape[0]))\n",
      "\n",
      "# On average, what proportion of points were missclassified? (ie and estimate of P[f(x) =/= g(x)])\n",
      "prob_incorrect = np.array(prop_incorrect).mean()\n",
      "prob_incorrect"
     ],
     "language": "python",
     "metadata": {},
     "outputs": [
      {
       "metadata": {},
       "output_type": "pyout",
       "prompt_number": 8,
       "text": [
        "0.013148600868774625"
       ]
      }
     ],
     "prompt_number": 8
    },
    {
     "cell_type": "code",
     "collapsed": false,
     "input": [],
     "language": "python",
     "metadata": {},
     "outputs": []
    }
   ],
   "metadata": {}
  }
 ]
}