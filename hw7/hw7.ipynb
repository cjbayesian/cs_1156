{
 "metadata": {
  "name": "",
  "signature": "sha256:89366abc885092e6cca8da01e4efaadd812681bdcc597a9c751fd71d7e2a6e32"
 },
 "nbformat": 3,
 "nbformat_minor": 0,
 "worksheets": [
  {
   "cells": [
    {
     "cell_type": "markdown",
     "metadata": {},
     "source": [
      "## Homework 7\n",
      "Corey Chivers"
     ]
    },
    {
     "cell_type": "code",
     "collapsed": false,
     "input": [
      "from matplotlib.backends.backend_pdf import PdfPages\n",
      "%pylab inline"
     ],
     "language": "python",
     "metadata": {},
     "outputs": [
      {
       "output_type": "stream",
       "stream": "stdout",
       "text": [
        "Populating the interactive namespace from numpy and matplotlib\n"
       ]
      }
     ],
     "prompt_number": 5
    },
    {
     "cell_type": "markdown",
     "metadata": {},
     "source": [
      "### Question 1\n",
      "#### Validation\n",
      "Split in.dta into training (first 25 examples) and validation (last 10 examples). Train on the 25 examples only, using the validation set of 10 examples to select between five models that apply linear regression to $\\phi_0$ through $\\phi_k$, with $k = 3, 4, 5, 6, 7$. For which model is the classification error on the validation set smallest?\n"
     ]
    },
    {
     "cell_type": "code",
     "collapsed": false,
     "input": [
      "import numpy  as np    \n",
      "\n",
      "indat = np.genfromtxt('http://work.caltech.edu/data/in.dta')\n",
      "outdat =  np.genfromtxt('http://work.caltech.edu/data/out.dta')"
     ],
     "language": "python",
     "metadata": {},
     "outputs": [],
     "prompt_number": 6
    },
    {
     "cell_type": "markdown",
     "metadata": {},
     "source": [
      "Let's have a look at the data first:"
     ]
    },
    {
     "cell_type": "code",
     "collapsed": false,
     "input": [
      "y_color = np.array(['red' if i==1 else 'blue' for i in indat[:,2]])\n",
      "plt.scatter(indat[:,0],indat[:,1],c=y_color,s=100)\n",
      "plt.show()"
     ],
     "language": "python",
     "metadata": {},
     "outputs": [
      {
       "metadata": {},
       "output_type": "display_data",
       "png": "[encoded data removed]",
       "text": [
        "<matplotlib.figure.Figure at 0x106161250>"
       ]
      }
     ],
     "prompt_number": 7
    },
    {
     "cell_type": "markdown",
     "metadata": {},
     "source": [
      "Holy non-linearly seperable Batman! No fear, we've got a non-linear transformation to apply."
     ]
    },
    {
     "cell_type": "markdown",
     "metadata": {},
     "source": [
      "We are going to apply Linear Regression with a non-linear\n",
      "transformation for classification. The nonlinear transformation is given by:\n",
      "    $$\\Phi (x_1, x_2) = (1, x_1, x_2, x_1^2, x_2^2, x_1x_2, |x_1 - x_2|, |x_1 + x_2|)$$"
     ]
    },
    {
     "cell_type": "markdown",
     "metadata": {},
     "source": [
      "We will use the regularized formula:\n",
      "$$w_{reg} = (Z^T Z + \\lambda I)^{\u22121} Z^T y$$ \n",
      "and compare with the normal linear regression one-step learning formula:\n",
      "$$w_{lin} = (Z^T Z)^{-1} Z^T y$$ "
     ]
    },
    {
     "cell_type": "code",
     "collapsed": false,
     "input": [
      "def q2_transform(x):\n",
      "    x = np.column_stack((np.ones(x.shape[0]).T,x,x[:,0]**2,x[:,1]**2,x[:,0]*x[:,1],np.abs(x[:,0]-x[:,1]),np.abs(x[:,0]+x[:,1])))\n",
      "    return x\n",
      "\n",
      "def error_rate(w,x,y,predfn):\n",
      "    return (predfn(w,x) != y).mean()\n",
      "\n",
      "def linear_fit(x,y):\n",
      "    '''Let's get our linear algebra on.\n",
      "    Numpy can help!'''\n",
      "    inv = np.linalg.inv # for inverting matrices\n",
      "    return np.dot(np.dot(inv(np.dot(x.T,x)),x.T),y)\n",
      "\n",
      "def linear_reg_fit(x,y,lambda_reg):\n",
      "    '''Let's get our linear algebra on.\n",
      "    Numpy can help!'''\n",
      "    inv = np.linalg.inv # for inverting matrices\n",
      "    dim=x.shape[1]\n",
      "    return np.dot(np.dot(inv(np.dot(x.T,x) + lambda_reg * np.identity(dim) ),x.T),y)\n",
      "\n",
      "def linear_pred(w,x):\n",
      "    return ((np.dot(x,w)  > 0 * 1) - 0.5)*2\n"
     ],
     "language": "python",
     "metadata": {},
     "outputs": [],
     "prompt_number": 9
    },
    {
     "cell_type": "markdown",
     "metadata": {},
     "source": [
      "First with no regularization:"
     ]
    },
    {
     "cell_type": "code",
     "collapsed": false,
     "input": [
      "x = q2_transform(indat[:,:2])\n",
      "y = indat[:,2]\n",
      "\n",
      "fit = linear_fit(x=x,y=y)\n",
      "print 'E_in:', error_rate(fit,x,y,predfn=linear_pred)\n",
      "\n",
      "\n",
      "x = q2_transform(outdat[:,:2])\n",
      "y = outdat[:,2]\n",
      "\n",
      "print 'E_out:', error_rate(fit,x,y,linear_pred)\n",
      "\n"
     ],
     "language": "python",
     "metadata": {},
     "outputs": [
      {
       "output_type": "stream",
       "stream": "stdout",
       "text": [
        "E_in: 0.0285714285714\n",
        "E_out: 0.084\n"
       ]
      }
     ],
     "prompt_number": 10
    },
    {
     "cell_type": "markdown",
     "metadata": {},
     "source": [
      "Now with varying $\\lambda$"
     ]
    },
    {
     "cell_type": "code",
     "collapsed": false,
     "input": [
      "# k = -3\n",
      "x = q2_transform(indat[:,:2])\n",
      "y = indat[:,2]\n",
      "\n",
      "fit = linear_reg_fit(x=x,y=y,lambda_reg=10e-3)\n",
      "print 'E_in:', error_rate(fit,x,y,predfn=linear_pred)\n",
      "\n",
      "\n",
      "x = q2_transform(outdat[:,:2])\n",
      "y = outdat[:,2]\n",
      "\n",
      "print 'E_out:', error_rate(fit,x,y,linear_pred)"
     ],
     "language": "python",
     "metadata": {},
     "outputs": [
      {
       "output_type": "stream",
       "stream": "stdout",
       "text": [
        "E_in: 0.0285714285714\n",
        "E_out: 0.084\n"
       ]
      }
     ],
     "prompt_number": 11
    },
    {
     "cell_type": "code",
     "collapsed": false,
     "input": [
      "# k = 3\n",
      "x = q2_transform(indat[:,:2])\n",
      "y = indat[:,2]\n",
      "\n",
      "fit = linear_reg_fit(x=x,y=y,lambda_reg=10e3)\n",
      "print 'E_in:', error_rate(fit,x,y,predfn=linear_pred)\n",
      "\n",
      "\n",
      "x = q2_transform(outdat[:,:2])\n",
      "y = outdat[:,2]\n",
      "\n",
      "print 'E_out:', error_rate(fit,x,y,linear_pred)"
     ],
     "language": "python",
     "metadata": {},
     "outputs": [
      {
       "output_type": "stream",
       "stream": "stdout",
       "text": [
        "E_in: 0.428571428571\n",
        "E_out: 0.452\n"
       ]
      }
     ],
     "prompt_number": 12
    },
    {
     "cell_type": "code",
     "collapsed": false,
     "input": [
      "ks = [2,1,0,-1,-2]\n",
      "for k in ks:\n",
      "    x = q2_transform(indat[:,:2])\n",
      "    y = indat[:,2]\n",
      "    fit = linear_reg_fit(x=x,y=y,lambda_reg=10.0**k)\n",
      "    \n",
      "    x = q2_transform(outdat[:,:2])\n",
      "    y = outdat[:,2]\n",
      "    print k,'E_out:', error_rate(fit,x,y,linear_pred)"
     ],
     "language": "python",
     "metadata": {},
     "outputs": [
      {
       "output_type": "stream",
       "stream": "stdout",
       "text": [
        "2 E_out: 0.228\n",
        "1 E_out: 0.124\n",
        "0 E_out: 0.092\n",
        "-1 E_out: 0.056\n",
        "-2 E_out: 0.084\n"
       ]
      }
     ],
     "prompt_number": 13
    },
    {
     "cell_type": "markdown",
     "metadata": {},
     "source": [
      "## PLA vs. SVM"
     ]
    },
    {
     "cell_type": "markdown",
     "metadata": {},
     "source": [
      "### Question 8"
     ]
    },
    {
     "cell_type": "code",
     "collapsed": false,
     "input": [
      "def lineFromW(x,w):\n",
      "    '''Return y for a given x and a set of weights w. For drawing the perceptron'''\n",
      "    # w0 + w1 x + w2 y = 0\n",
      "    # y = (-w0 - w1 x) / w2\n",
      "    y = (-w[0] - w[1] * x) / w[2]\n",
      "    return y\n",
      "\n",
      "def lineFromPoints(p1,p2):\n",
      "    '''Return slope and intercept of a line defined by two points '''\n",
      "    # y = m x + b\n",
      "    m = (p1[1] - p2[1]) / (p1[0] - p2[0])\n",
      "    b = p1[1] - m * p1[0]\n",
      "    return (m,b)\n",
      "\n",
      "def lineFromMB(x,m,b):\n",
      "    '''Return y for a given x, m=slope, and b=y intercept'''\n",
      "    y = m * x + b\n",
      "    return y\n",
      "    \n",
      "def classifyByLine(x,m,b):\n",
      "    '''Return true is below the line, false if above'''\n",
      "    y = x[:,1] > x[:,0] * m + b\n",
      "    return y\n",
      "\n",
      "def classifyByW(x,w):\n",
      "    '''Linear perceptron, implementing h(x)=sign(W^T . x)'''\n",
      "    #s = w[0] + w[1] * x[:,0] + w[2] * x[:,1] \n",
      "    # Let's use matrix notation instead to allow\n",
      "    # generalization to n-dimensional space\n",
      "    x = np.column_stack((np.ones(x.shape[0]).T,x))\n",
      "    s = (w * x).sum(1)\n",
      "    y = (s > 0)\n",
      "    return y\n",
      "\n",
      "def simData(N=20):\n",
      "    ''' Simulate N points separated by a random line '''\n",
      "    x = np.random.rand(N,2)*2-1\n",
      "    \n",
      "    # pick 2 points to draw a line through\n",
      "    sp = np.random.rand(2,2)*2-1\n",
      "    m,b = lineFromPoints(sp[0,:],sp[1,:])\n",
      "    \n",
      "    # define y according to that line\n",
      "    y = classifyByLine(x=x,m=m,b=b)\n",
      "        \n",
      "    return {'x':x,'y':y}\n",
      "\n",
      "def updateW(w,x,y,verbose=True):\n",
      "    '''One step in the PLA'''\n",
      "    # predict y using the current weights (ie classify)\n",
      "    y_perc = np.logical_not(classifyByW(x,w))\n",
      "    y_perc = classifyByW(x,w)\n",
      "    \n",
      "    # Get the missclassified points\n",
      "    incorrect = np.logical_xor(y_perc,y)\n",
      "\n",
      "    if verbose:\n",
      "        print 'N wrong: ', np.sum(incorrect)\n",
      "    \n",
      "    # If there are no missclassified points, then we're done. Yay!\n",
      "    if np.sum(incorrect) == 0:\n",
      "        return w\n",
      "    \n",
      "    # Get the indicies of misclasified points\n",
      "    inc_idx = [i for i,v in enumerate(list(incorrect))  if v]\n",
      "\n",
      "    # Choose one misclasified point at random\n",
      "    inc_idx = random.choice(inc_idx)\n",
      "    \n",
      "    # encode y_perc as {-1,1} rather than {true,false}\n",
      "    y_perc = np.array([1 if yy else -1 for yy in y_perc])\n",
      "    \n",
      "    # Add on the x0 = 1 artificial coordinate\n",
      "    x = np.column_stack((np.ones(x.shape[0]).T,x))\n",
      "\n",
      "    # PLA definition from the slides!\n",
      "    w = w - (y_perc[inc_idx] * x[inc_idx,:])\n",
      "    return w\n",
      "\n",
      "def fit_PLA(x,y,init_w):\n",
      "    new_w = init_w\n",
      "    old_w = new_w + 1\n",
      "    while not numpy.array_equal(old_w, new_w):\n",
      "        old_w = new_w\n",
      "        new_w = updateW(old_w,x,y,verbose=False)\n",
      "        print old_w, new_w\n",
      "    return new_w\n"
     ],
     "language": "python",
     "metadata": {},
     "outputs": [],
     "prompt_number": 83
    },
    {
     "cell_type": "code",
     "collapsed": false,
     "input": [
      "def experiment(N_in=100,N_out=1000,sim_fnc=simData):\n",
      "    # Simulate some random, linearly separable data\n",
      "    N = N_in + N_out\n",
      "    data = sim_fnc(N=N)\n",
      "\n",
      "    x = data['x'][:N_in]\n",
      "    # encode y as {-1,1} rather than {true,false}\n",
      "    y = data['y'][:N_in]\n",
      "    y = np.array([1 if yy else -1 for yy in y])\n",
      "\n",
      "    # Fit a linear perceptron to the data\n",
      "    w = fit_PLA(x,y,init_w=np.zeros(3))\n",
      "    \n",
      "    # Predict y_out from the perceptron\n",
      "    x = data['x'][N_in+1:]\n",
      "    y_PLA = classifyByW(x,w)\n",
      "    print y_PLA\n",
      "    # Evaluate E_out\n",
      "    E_out = np.logical_xor(y_PLA,data['y'][N_in+1:]).mean()\n",
      "    \n",
      "    return E_out\n",
      "    "
     ],
     "language": "python",
     "metadata": {},
     "outputs": [],
     "prompt_number": 84
    },
    {
     "cell_type": "code",
     "collapsed": false,
     "input": [
      "experiment()"
     ],
     "language": "python",
     "metadata": {},
     "outputs": [
      {
       "output_type": "stream",
       "stream": "stdout",
       "text": [
        "[ 0.  0.  0.] [ 1.          0.0423699   0.66816086]\n",
        "[ 1.          0.0423699   0.66816086] [ 1.          0.0423699   0.66816086]\n",
        "[ True  True  True  True  True  True  True  True  True  True  True  True\n",
        "  True  True  True  True  True  True  True  True  True  True  True  True\n",
        "  True  True  True  True  True  True  True  True  True  True  True  True\n",
        "  True  True  True  True  True  True  True  True  True  True  True  True\n",
        "  True  True  True  True  True  True  True  True  True  True  True  True\n",
        "  True  True  True  True  True  True  True  True  True  True  True  True\n",
        "  True  True  True  True  True  True  True  True  True  True  True  True\n",
        "  True  True  True  True  True  True  True  True  True  True  True  True\n",
        "  True  True  True  True  True  True  True  True  True  True  True  True\n",
        "  True  True  True  True  True  True  True  True  True  True  True  True\n",
        "  True  True  True  True  True  True  True  True  True  True  True  True\n",
        "  True  True  True  True  True  True  True  True  True  True  True  True\n",
        "  True  True  True  True  True  True  True  True  True  True  True  True\n",
        "  True  True  True  True  True  True  True  True  True  True  True  True\n",
        "  True  True  True  True  True  True  True  True  True  True  True  True\n",
        "  True  True  True  True  True  True  True  True  True  True  True  True\n",
        "  True  True  True  True  True  True  True  True  True  True  True  True\n",
        "  True  True  True  True  True  True  True  True  True  True  True  True\n",
        "  True  True  True  True  True  True  True  True  True  True  True  True\n",
        "  True  True  True  True  True  True  True  True  True  True  True  True\n",
        "  True  True  True  True  True  True  True  True  True  True  True  True\n",
        "  True  True  True  True  True  True  True  True  True  True  True  True\n",
        "  True  True  True  True  True  True  True  True  True  True  True  True\n",
        "  True  True  True  True  True  True  True  True  True  True  True  True\n",
        "  True  True  True  True  True  True  True  True  True  True  True  True\n",
        "  True  True  True  True  True  True  True  True  True  True  True  True\n",
        "  True  True  True  True  True  True  True  True  True  True  True  True\n",
        "  True  True  True  True  True  True  True  True  True  True  True  True\n",
        "  True  True  True  True  True  True  True  True  True  True  True  True\n",
        "  True  True  True  True  True  True  True  True  True  True  True  True\n",
        "  True  True  True  True  True  True  True  True  True  True  True  True\n",
        "  True  True  True  True  True  True  True  True  True  True  True  True\n",
        "  True  True  True  True  True  True  True  True  True  True  True  True\n",
        "  True  True  True  True  True  True  True  True  True  True  True  True\n",
        "  True  True  True  True  True  True  True  True  True  True  True  True\n",
        "  True  True  True  True  True  True  True  True  True  True  True  True\n",
        "  True  True  True  True  True  True  True  True  True  True  True  True\n",
        "  True  True  True  True  True  True  True  True  True  True  True  True\n",
        "  True  True  True  True  True  True  True  True  True  True  True  True\n",
        "  True  True  True  True  True  True  True  True  True  True  True  True\n",
        "  True  True  True  True  True  True  True  True  True  True  True  True\n",
        "  True  True  True  True  True  True  True  True  True  True  True  True\n",
        "  True  True  True  True  True  True  True  True  True  True  True  True\n",
        "  True  True  True  True  True  True  True  True  True  True  True  True\n",
        "  True  True  True  True  True  True  True  True  True  True  True  True\n",
        "  True  True  True  True  True  True  True  True  True  True  True  True\n",
        "  True  True  True  True  True  True  True  True  True  True  True  True\n",
        "  True  True  True  True  True  True  True  True  True  True  True  True\n",
        "  True  True  True  True  True  True  True  True  True  True  True  True\n",
        "  True  True  True  True  True  True  True  True  True  True  True  True\n",
        "  True  True  True  True  True  True  True  True  True  True  True  True\n",
        "  True  True  True  True  True  True  True  True  True  True  True  True\n",
        "  True  True  True  True  True  True  True  True  True  True  True  True\n",
        "  True  True  True  True  True  True  True  True  True  True  True  True\n",
        "  True  True  True  True  True  True  True  True  True  True  True  True\n",
        "  True  True  True  True  True  True  True  True  True  True  True  True\n",
        "  True  True  True  True  True  True  True  True  True  True  True  True\n",
        "  True  True  True  True  True  True  True  True  True  True  True  True\n",
        "  True  True  True  True  True  True  True  True  True  True  True  True\n",
        "  True  True  True  True  True  True  True  True  True  True  True  True\n",
        "  True  True  True  True  True  True  True  True  True  True  True  True\n",
        "  True  True  True  True  True  True  True  True  True  True  True  True\n",
        "  True  True  True  True  True  True  True  True  True  True  True  True\n",
        "  True  True  True  True  True  True  True  True  True  True  True  True\n",
        "  True  True  True  True  True  True  True  True  True  True  True  True\n",
        "  True  True  True  True  True  True  True  True  True  True  True  True\n",
        "  True  True  True  True  True  True  True  True  True  True  True  True\n",
        "  True  True  True  True  True  True  True  True  True  True  True  True\n",
        "  True  True  True  True  True  True  True  True  True  True  True  True\n",
        "  True  True  True  True  True  True  True  True  True  True  True  True\n",
        "  True  True  True  True  True  True  True  True  True  True  True  True\n",
        "  True  True  True  True  True  True  True  True  True  True  True  True\n",
        "  True  True  True  True  True  True  True  True  True  True  True  True\n",
        "  True  True  True  True  True  True  True  True  True  True  True  True\n",
        "  True  True  True  True  True  True  True  True  True  True  True  True\n",
        "  True  True  True  True  True  True  True  True  True  True  True  True\n",
        "  True  True  True  True  True  True  True  True  True  True  True  True\n",
        "  True  True  True  True  True  True  True  True  True  True  True  True\n",
        "  True  True  True  True  True  True  True  True  True  True  True  True\n",
        "  True  True  True  True  True  True  True  True  True  True  True  True\n",
        "  True  True  True  True  True  True  True  True  True  True  True  True\n",
        "  True  True  True  True  True  True  True  True  True  True  True  True\n",
        "  True  True  True  True  True  True  True  True  True  True  True  True\n",
        "  True  True  True]\n"
       ]
      },
      {
       "metadata": {},
       "output_type": "pyout",
       "prompt_number": 92,
       "text": [
        "0.57257257257257255"
       ]
      }
     ],
     "prompt_number": 92
    },
    {
     "cell_type": "code",
     "collapsed": false,
     "input": [
      "from sklearn import svm\n",
      "\n",
      "svm_model = svm.LinearSVC(C=100000)\n",
      "svm_model.fit(x,y)"
     ],
     "language": "python",
     "metadata": {},
     "outputs": [
      {
       "metadata": {},
       "output_type": "pyout",
       "prompt_number": 93,
       "text": [
        "LinearSVC(C=100000, class_weight=None, dual=True, fit_intercept=True,\n",
        "     intercept_scaling=1, loss='l2', multi_class='ovr', penalty='l2',\n",
        "     random_state=None, tol=0.0001, verbose=0)"
       ]
      }
     ],
     "prompt_number": 93
    },
    {
     "cell_type": "code",
     "collapsed": false,
     "input": [
      "svm_model.predict(x)"
     ],
     "language": "python",
     "metadata": {},
     "outputs": [
      {
       "metadata": {},
       "output_type": "pyout",
       "prompt_number": 94,
       "text": [
        "array([-1,  1,  1, -1,  1, -1, -1,  1,  1, -1])"
       ]
      }
     ],
     "prompt_number": 94
    },
    {
     "cell_type": "code",
     "collapsed": false,
     "input": [],
     "language": "python",
     "metadata": {},
     "outputs": [],
     "prompt_number": 45
    },
    {
     "cell_type": "code",
     "collapsed": false,
     "input": [],
     "language": "python",
     "metadata": {},
     "outputs": []
    }
   ],
   "metadata": {}
  }
 ]
}